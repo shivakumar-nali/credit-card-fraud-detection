{
 "cells": [
  {
   "cell_type": "code",
   "execution_count": 10,
   "id": "164c6704-0cb9-4f60-8e39-d4df3e0884af",
   "metadata": {},
   "outputs": [],
   "source": [
    "import pandas as pd\n",
    "import numpy as np\n",
    "import joblib\n",
    "\n",
    "# 1️⃣ Load model and scaler\n",
    "model = joblib.load(\"random_forest_tuned_model.pkl\")\n",
    "scaler = joblib.load(\"scaler.pkl\")"
   ]
  },
  {
   "cell_type": "code",
   "execution_count": 11,
   "id": "a1036ad0-4b80-4acf-83d4-16ca3fcc9e2f",
   "metadata": {},
   "outputs": [],
   "source": [
    "# 2️⃣ Load dataset\n",
    "df = pd.read_csv(\"creditcard.csv\")"
   ]
  },
  {
   "cell_type": "code",
   "execution_count": 12,
   "id": "e73315c8-1818-4c3e-aa1e-1e5adb5b6759",
   "metadata": {},
   "outputs": [
    {
     "name": "stderr",
     "output_type": "stream",
     "text": [
      "C:\\Users\\N.KIRAN\\AppData\\Local\\Programs\\Python\\Python310\\lib\\site-packages\\sklearn\\utils\\validation.py:2739: UserWarning: X does not have valid feature names, but StandardScaler was fitted with feature names\n",
      "  warnings.warn(\n"
     ]
    }
   ],
   "source": [
    "# 3️⃣ Select the first fraud row\n",
    "fraud_sample = df[df['Class'] == 1].iloc[0]\n",
    "\n",
    "# 4️⃣ Extract features\n",
    "new_transaction = fraud_sample.drop('Class').values.reshape(1, -1)\n",
    "\n",
    "# 5️⃣ Scale\n",
    "new_transaction_scaled = scaler.transform(new_transaction)"
   ]
  },
  {
   "cell_type": "code",
   "execution_count": 13,
   "id": "db43e959-4c50-493e-b2a2-1d4eb90426b2",
   "metadata": {},
   "outputs": [],
   "source": [
    "# 6️⃣ Predict\n",
    "prediction = model.predict(new_transaction_scaled)\n",
    "probability = model.predict_proba(new_transaction_scaled)\n"
   ]
  },
  {
   "cell_type": "code",
   "execution_count": 14,
   "id": "a8927418-c7ab-4d5d-989e-cc746568471a",
   "metadata": {},
   "outputs": [
    {
     "name": "stdout",
     "output_type": "stream",
     "text": [
      "Actual Label: 1.0\n",
      "⚠️ Fraud Detected!\n",
      "Probability of Fraud: 0.9331\n"
     ]
    }
   ],
   "source": [
    "# 7️⃣ Show actual label and result\n",
    "print(\"Actual Label:\", fraud_sample['Class'])\n",
    "if prediction[0] == 1:\n",
    "    print(\"⚠️ Fraud Detected!\")\n",
    "else:\n",
    "    print(\"✅ Legitimate Transaction\")\n",
    "\n",
    "print(f\"Probability of Fraud: {probability[0][1]:.4f}\")"
   ]
  },
  {
   "cell_type": "code",
   "execution_count": null,
   "id": "946160b0-07af-481a-911d-06be108fcd09",
   "metadata": {},
   "outputs": [],
   "source": []
  }
 ],
 "metadata": {
  "kernelspec": {
   "display_name": "Python 3.10 (ML Intern)",
   "language": "python",
   "name": "py310"
  },
  "language_info": {
   "codemirror_mode": {
    "name": "ipython",
    "version": 3
   },
   "file_extension": ".py",
   "mimetype": "text/x-python",
   "name": "python",
   "nbconvert_exporter": "python",
   "pygments_lexer": "ipython3",
   "version": "3.10.11"
  }
 },
 "nbformat": 4,
 "nbformat_minor": 5
}
